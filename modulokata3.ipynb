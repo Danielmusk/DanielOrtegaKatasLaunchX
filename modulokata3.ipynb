{
 "cells": [
  {
   "cell_type": "markdown",
   "metadata": {},
   "source": [
    "problema 1"
   ]
  },
  {
   "cell_type": "code",
   "execution_count": 1,
   "metadata": {},
   "outputs": [
    {
     "name": "stdout",
     "output_type": "stream",
     "text": [
      "asteroide acercandose a la tierra\n"
     ]
    }
   ],
   "source": [
    "asteroide = 49\n",
    "\n",
    "if asteroide > 25:\n",
    "      print (\"asteroide acercandose a la tierra\") \n",
    "else:\n",
    "      print (\"siga con su dia!\")"
   ]
  },
  {
   "cell_type": "markdown",
   "metadata": {},
   "source": [
    "problema 2"
   ]
  },
  {
   "cell_type": "code",
   "execution_count": 2,
   "metadata": {},
   "outputs": [
    {
     "name": "stdout",
     "output_type": "stream",
     "text": [
      "no hay nada que ver\n"
     ]
    }
   ],
   "source": [
    "asteroide2 = 19\n",
    "\n",
    "if asteroide2 > 20:\n",
    "      print (\"salgan a la calle hay una luz en el cielo\")\n",
    "elif asteroide2 == 20:\n",
    "      print (\"salgan a la calle hay una luz en el cielo\")\n",
    "else:\n",
    "      print (\"no hay nada que ver\")"
   ]
  },
  {
   "cell_type": "markdown",
   "metadata": {},
   "source": [
    "problema 3"
   ]
  },
  {
   "cell_type": "code",
   "execution_count": 3,
   "metadata": {},
   "outputs": [
    {
     "name": "stdout",
     "output_type": "stream",
     "text": [
      "Salgan a ver la luz del asteriode\n"
     ]
    }
   ],
   "source": [
    "asteroidetamaño = 22\n",
    "asteroidevel = 30\n",
    "\n",
    "if asteroidetamaño > 1000: # el 1000 lo use como dato extra que venia \n",
    "     print (\"Ese asteroide nos matara a todos es gigante!!!\")\n",
    "elif asteroidetamaño >= 25 and asteroidetamaño <= 1000 and asteroidevel >= 25: #use el 25 de la advertencia por velocidad\n",
    "     print (\"Se acerca un asteroide a gran velocidad y de gran tamano,hara mucho dano!!!\")\n",
    "elif asteroidevel < 25 and asteroidetamaño > 25: #no pasa de 25 de velocidad pero advierte por su gran tamaño\n",
    "     print (\"se acerca un asteroide grande y lento puede ser peligroso\")\n",
    "elif asteroidevel >= 20 and asteroidetamaño <= 25: # a 20 deja la luz y ya no hay peligro del tamaño\n",
    "     print (\"Salgan a ver la luz del asteriode\")\n",
    "else :\n",
    "     print(\"No hay nada que ver\")\n"
   ]
  }
 ],
 "metadata": {
  "interpreter": {
   "hash": "85017b6b36c4e0cd1c0b0688f9e4bee1ea35eb55ad2c1b4ca3a9c6d1fcde6205"
  },
  "kernelspec": {
   "display_name": "Python 3.10.2 ('env': venv)",
   "language": "python",
   "name": "python3"
  },
  "language_info": {
   "codemirror_mode": {
    "name": "ipython",
    "version": 3
   },
   "file_extension": ".py",
   "mimetype": "text/x-python",
   "name": "python",
   "nbconvert_exporter": "python",
   "pygments_lexer": "ipython3",
   "version": "3.10.2"
  },
  "orig_nbformat": 4
 },
 "nbformat": 4,
 "nbformat_minor": 2
}
